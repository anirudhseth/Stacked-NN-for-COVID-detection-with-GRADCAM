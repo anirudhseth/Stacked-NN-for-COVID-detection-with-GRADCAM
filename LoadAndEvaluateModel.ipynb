{
 "cells": [
  {
   "cell_type": "code",
   "execution_count": 1,
   "metadata": {},
   "outputs": [],
   "source": [
    "import pandas as pd\n",
    "import numpy as np\n",
    "import shutil\n",
    "import os\n",
    "import itertools\n",
    "import random\n",
    "from data_module import *\n",
    "from tensorflow.keras.models import Model\n",
    "from sklearn.metrics import classification_report,plot_confusion_matrix,confusion_matrix,accuracy_score\n",
    "import seaborn as sn\n",
    "import pandas as pd\n",
    "import matplotlib.pyplot as plt\n",
    "from tensorflow.keras.applications import imagenet_utils"
   ]
  },
  {
   "cell_type": "code",
   "execution_count": 2,
   "metadata": {},
   "outputs": [],
   "source": [
    "Testgenerator = BalanceCovidDataset(data_dir=\"/home/magnus_pierrau/notebooks_etc/New_cropped_imgs/\",\n",
    "                                csv_file=\"/home/magnus_pierrau/notebooks_etc/New_cropped_imgs/test_split_v5.txt\",\n",
    "                                covid_percent=0.1,\n",
    "                                batch_size=100,\n",
    "                                is_training=False,\n",
    "                                augmentation=False,\n",
    "                                class_weights=[1., 1., 1.]) #weights for normal, pneumonia, covid19"
   ]
  },
  {
   "cell_type": "code",
   "execution_count": 3,
   "metadata": {},
   "outputs": [],
   "source": [
    "model=tf.keras.models.load_model('/home/magnus_pierrau/notebooks_etc/model1')"
   ]
  },
  {
   "cell_type": "code",
   "execution_count": 4,
   "metadata": {},
   "outputs": [],
   "source": [
    "pred=model.predict(Testgenerator)"
   ]
  },
  {
   "cell_type": "code",
   "execution_count": 5,
   "metadata": {},
   "outputs": [],
   "source": [
    "testY_idx=[]\n",
    "for i in range(len(Testgenerator)):\n",
    "    distribution=next(Testgenerator)[1]\n",
    "    testY_idx.append(distribution.argmax(axis=1))\n",
    "testY_idx=np.asarray(list(itertools.chain.from_iterable(testY_idx)))\n",
    "testY_idx=np.asarray(testY_idx)"
   ]
  },
  {
   "cell_type": "code",
   "execution_count": 6,
   "metadata": {},
   "outputs": [],
   "source": [
    "predIdxs = np.argmax(pred, axis=1)"
   ]
  },
  {
   "cell_type": "code",
   "execution_count": 7,
   "metadata": {},
   "outputs": [
    {
     "data": {
      "text/plain": [
       "(1500,)"
      ]
     },
     "execution_count": 7,
     "metadata": {},
     "output_type": "execute_result"
    }
   ],
   "source": [
    "testY_idx.shape"
   ]
  },
  {
   "cell_type": "code",
   "execution_count": 8,
   "metadata": {},
   "outputs": [],
   "source": [
    "def plot_confusion_matrix(cm, labels):\n",
    "#     cm=confusion_matrix(ground_truth, predictions, labels=labels)\n",
    "    df_cm = pd.DataFrame(cm, index=labels, columns=labels)\n",
    "    sn.set(font_scale=0.9) # for label size\n",
    "    sn.heatmap(df_cm, annot=True, annot_kws={\"size\": 12}, fmt=\"d\") # font size\n",
    "    plt.ylabel('True Label')\n",
    "    plt.xlabel('Predicted Label')\n",
    "    plt.show()\n",
    "    "
   ]
  },
  {
   "cell_type": "code",
   "execution_count": 9,
   "metadata": {},
   "outputs": [
    {
     "name": "stdout",
     "output_type": "stream",
     "text": [
      "              precision    recall  f1-score   support\n",
      "\n",
      "      normal       0.82      0.83      0.83       805\n",
      "   pneumonia       0.87      0.73      0.79       643\n",
      "    COVID-19       0.03      0.10      0.05        52\n",
      "\n",
      "    accuracy                           0.76      1500\n",
      "   macro avg       0.57      0.55      0.56      1500\n",
      "weighted avg       0.81      0.76      0.78      1500\n",
      "\n"
     ]
    },
    {
     "data": {
      "image/png": "[encoded data removed]",
      "text/plain": [
       "<Figure size 432x288 with 2 Axes>"
      ]
     },
     "metadata": {},
     "output_type": "display_data"
    },
    {
     "name": "stdout",
     "output_type": "stream",
     "text": [
      "acc: 0.7580\n",
      "sensitivity: 0.8588\n",
      "specificity: 0.8897\n"
     ]
    }
   ],
   "source": [
    "\n",
    "print(classification_report(predIdxs, testY_idx,target_names=['normal','pneumonia','COVID-19']))\n",
    "cm = confusion_matrix(testY_idx, predIdxs)\n",
    "\n",
    "plot_confusion_matrix(cm, ['normal','pneumonia','COVID-19'])\n",
    "\n",
    "\n",
    "total = sum(sum(cm))\n",
    "acc = (cm[0, 0] + cm[1, 1]) / total\n",
    "sensitivity = cm[0, 0] / (cm[0, 0] + cm[0, 1])\n",
    "specificity = cm[1, 1] / (cm[1, 0] + cm[1, 1])\n",
    "# show the confusion matrix, accuracy, sensitivity, and specificity\n",
    "\n",
    "\n",
    "print(\"acc: {:.4f}\".format(acc))\n",
    "print(\"sensitivity: {:.4f}\".format(sensitivity))\n",
    "print(\"specificity: {:.4f}\".format(specificity))"
   ]
  }
 ],
 "metadata": {
  "kernelspec": {
   "display_name": "Python 3",
   "language": "python",
   "name": "python3"
  },
  "language_info": {
   "codemirror_mode": {
    "name": "ipython",
    "version": 3
   },
   "file_extension": ".py",
   "mimetype": "text/x-python",
   "name": "python",
   "nbconvert_exporter": "python",
   "pygments_lexer": "ipython3",
   "version": "3.7.6"
  }
 },
 "nbformat": 4,
 "nbformat_minor": 4
}
