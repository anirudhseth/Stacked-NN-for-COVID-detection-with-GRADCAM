{
 "cells": [
  {
   "cell_type": "code",
   "execution_count": 1,
   "metadata": {},
   "outputs": [],
   "source": [
    "import pandas as pd\n",
    "import numpy as np\n",
    "import shutil\n",
    "import os"
   ]
  },
  {
   "cell_type": "code",
   "execution_count": 2,
   "metadata": {},
   "outputs": [],
   "source": [
    "c_name = ['pID', 'fname', 'diagnose', 'extra', 'add extra']\n",
    "df_train = pd.read_csv(\"E:/deepLearning/data/train_split_v3.txt\", header= None, sep =' ', names = c_name)\n",
    "df_test = pd.read_csv(\"E:/deepLearning/data/test_split_v3.txt\", header= None, sep =' ', names = c_name)\n",
    "df_train['source'] = 'train'\n",
    "df_test['source'] = 'test'"
   ]
  },
  {
   "cell_type": "code",
   "execution_count": 3,
   "metadata": {},
   "outputs": [
    {
     "data": {
      "text/plain": [
       "normal       8851\n",
       "pneumonia    6040\n",
       "COVID-19      236\n",
       "Name: diagnose, dtype: int64"
      ]
     },
     "execution_count": 3,
     "metadata": {},
     "output_type": "execute_result"
    }
   ],
   "source": [
    "df_train.diagnose.value_counts()"
   ]
  },
  {
   "cell_type": "code",
   "execution_count": 4,
   "metadata": {},
   "outputs": [
    {
     "data": {
      "text/plain": [
       "COVID-19     31\n",
       "pneumonia     5\n",
       "Name: diagnose, dtype: int64"
      ]
     },
     "execution_count": 4,
     "metadata": {},
     "output_type": "execute_result"
    }
   ],
   "source": [
    "df_test.diagnose.value_counts()"
   ]
  },
  {
   "cell_type": "markdown",
   "metadata": {},
   "source": [
    "### concatinate dataframes into one"
   ]
  },
  {
   "cell_type": "code",
   "execution_count": 5,
   "metadata": {},
   "outputs": [],
   "source": [
    "df = pd.concat([df_train, df_test])"
   ]
  },
  {
   "cell_type": "code",
   "execution_count": 6,
   "metadata": {},
   "outputs": [
    {
     "data": {
      "text/plain": [
       "normal       8851\n",
       "pneumonia    6045\n",
       "COVID-19      267\n",
       "Name: diagnose, dtype: int64"
      ]
     },
     "execution_count": 6,
     "metadata": {},
     "output_type": "execute_result"
    }
   ],
   "source": [
    "df.diagnose.value_counts()"
   ]
  },
  {
   "cell_type": "code",
   "execution_count": 7,
   "metadata": {},
   "outputs": [
    {
     "data": {
      "text/plain": [
       "normal       8851\n",
       "pneumonia    6045\n",
       "COVID-19      267\n",
       "Name: diagnose, dtype: int64"
      ]
     },
     "execution_count": 7,
     "metadata": {},
     "output_type": "execute_result"
    }
   ],
   "source": [
    "df.diagnose.value_counts()"
   ]
  },
  {
   "cell_type": "code",
   "execution_count": 8,
   "metadata": {},
   "outputs": [
    {
     "data": {
      "text/plain": [
       "train    15127\n",
       "test        36\n",
       "Name: source, dtype: int64"
      ]
     },
     "execution_count": 8,
     "metadata": {},
     "output_type": "execute_result"
    }
   ],
   "source": [
    "df.source.value_counts()"
   ]
  },
  {
   "cell_type": "markdown",
   "metadata": {},
   "source": [
    "### divide each category"
   ]
  },
  {
   "cell_type": "code",
   "execution_count": 9,
   "metadata": {},
   "outputs": [],
   "source": [
    "pneumonia = df[df['diagnose']=='pneumonia']\n",
    "COVID19 = df[df['diagnose']=='COVID-19']\n",
    "normal = df[df['diagnose']=='normal']"
   ]
  },
  {
   "cell_type": "code",
   "execution_count": 10,
   "metadata": {},
   "outputs": [],
   "source": [
    "# normal.head(2)\n",
    "# normal.diagnose.value_counts()\n",
    "# normal.source.value_counts()"
   ]
  },
  {
   "cell_type": "code",
   "execution_count": 11,
   "metadata": {},
   "outputs": [],
   "source": [
    "# pneumonia.head(2)\n",
    "# pneumonia.diagnose.value_counts()\n",
    "# pneumonia.source.value_counts()"
   ]
  },
  {
   "cell_type": "code",
   "execution_count": 12,
   "metadata": {},
   "outputs": [],
   "source": [
    "# COVID19.head(2)\n",
    "# COVID19.diagnose.value_counts()\n",
    "# COVID19.source.value_counts()"
   ]
  },
  {
   "cell_type": "markdown",
   "metadata": {},
   "source": [
    "### divide datasets to create train, val, test"
   ]
  },
  {
   "cell_type": "code",
   "execution_count": 13,
   "metadata": {},
   "outputs": [],
   "source": [
    "n_normal = len(normal.index)\n",
    "n_pneumonia = len(pneumonia.index)\n",
    "n_COVID19 = len(COVID19.index)\n",
    "divide = np.array([0.8*0.9,0.2*0.9,0.1])\n",
    "n = np.cumsum(np.floor(n_normal * divide))\n",
    "p = np.cumsum(np.floor(n_pneumonia * divide))\n",
    "c = np.cumsum(np.floor(n_COVID19 * divide))\n",
    "\n",
    "dict = {}\n",
    "dict['normal'] = n\n",
    "dict['pneumonia'] = p\n",
    "dict['COVID19'] = c"
   ]
  },
  {
   "cell_type": "code",
   "execution_count": 14,
   "metadata": {},
   "outputs": [],
   "source": [
    "normal_train = normal[:int(n[0])]\n",
    "normal_val = normal[int(n[0]) : int(n[1])]\n",
    "normal_test = normal[int(n[1]) : int(n[2])]\n",
    "\n",
    "pneumonia_train = pneumonia[:int(p[0])]\n",
    "pneumonia_val = pneumonia[int(p[0]) : int(p[1])]\n",
    "pneumonia_test = pneumonia[int(p[1]) : int(p[2])]\n",
    "\n",
    "COVID19_train = COVID19[:int(c[0])]\n",
    "COVID19_val = COVID19[int(c[0]) : int(c[1])]\n",
    "COVID19_test = COVID19[int(c[1]) : int(c[2])]"
   ]
  },
  {
   "cell_type": "code",
   "execution_count": 15,
   "metadata": {},
   "outputs": [
    {
     "name": "stdout",
     "output_type": "stream",
     "text": [
      "6372 1593 885 4352 1088 604 192 48 26\n"
     ]
    }
   ],
   "source": [
    "print(len(normal_train), len(normal_val), len(normal_test), len(pneumonia_train), len(pneumonia_val), len(pneumonia_test),\n",
    "len(COVID19_train), len(COVID19_val), len(COVID19_test))"
   ]
  },
  {
   "cell_type": "code",
   "execution_count": 16,
   "metadata": {},
   "outputs": [],
   "source": [
    "folder = \"E:/deepLearning/data\""
   ]
  },
  {
   "cell_type": "markdown",
   "metadata": {},
   "source": [
    "### copy pneumonia pictures to train2, val2 and test2 folders"
   ]
  },
  {
   "cell_type": "code",
   "execution_count": null,
   "metadata": {},
   "outputs": [],
   "source": [
    "for i, f in enumerate(pneumonia_train['fname']):\n",
    "    src = folder+'/'+pneumonia_train.source.iloc[i]+'/'+ f\n",
    "    dsc = folder+'/'+'train2/'+ f\n",
    "    shutil.copy2(src , dsc)\n",
    "\n",
    "for i, f in enumerate(pneumonia_val['fname']):\n",
    "    src = folder+'/'+pneumonia_val.source.iloc[i]+'/'+ f\n",
    "    dsc = folder+'/'+'val2/'+ f\n",
    "    shutil.copy2(src , dsc)\n",
    "\n",
    "for i, f in enumerate(pneumonia_test['fname']):\n",
    "    src = folder+'/'+pneumonia_test.source.iloc[i]+'/'+ f\n",
    "    dsc = folder+'/'+'test2/'+ f\n",
    "    shutil.copy2(src , dsc)  "
   ]
  },
  {
   "cell_type": "markdown",
   "metadata": {},
   "source": [
    "### copy covid pic"
   ]
  },
  {
   "cell_type": "code",
   "execution_count": null,
   "metadata": {},
   "outputs": [],
   "source": [
    "for i, f in enumerate(COVID19_train['fname']):\n",
    "    src = folder+'/'+COVID19_train.source.iloc[i]+'/'+ f\n",
    "    dsc = folder+'/'+'train2/'+ f\n",
    "    shutil.copy2(src , dsc)\n",
    "\n",
    "for i, f in enumerate(COVID19_val['fname']):\n",
    "    src = folder+'/'+COVID19_val.source.iloc[i]+'/'+ f\n",
    "    dsc = folder+'/'+'val2/'+ f\n",
    "    shutil.copy2(src , dsc)\n",
    "\n",
    "for i, f in enumerate(COVID19_test['fname']):\n",
    "    src = folder+'/'+COVID19_test.source.iloc[i]+'/'+ f\n",
    "    dsc = folder+'/'+'test2/'+ f\n",
    "    shutil.copy2(src , dsc)"
   ]
  },
  {
   "cell_type": "markdown",
   "metadata": {},
   "source": [
    "### copy normal"
   ]
  },
  {
   "cell_type": "code",
   "execution_count": null,
   "metadata": {},
   "outputs": [],
   "source": [
    "for i, f in enumerate(normal_train['fname']):\n",
    "    src = folder+'/'+normal_train.source.iloc[i]+'/'+ f\n",
    "    dsc = folder+'/'+'train2/'+ f\n",
    "    shutil.copy2(src , dsc)\n",
    "\n",
    "for i, f in enumerate(normal_val['fname']):\n",
    "    src = folder+'/'+normal_val.source.iloc[i]+'/'+ f\n",
    "    dsc = folder+'/'+'val2/'+ f\n",
    "    shutil.copy2(src , dsc)\n",
    "\n",
    "for i, f in enumerate(normal_test['fname']):\n",
    "    src = folder+'/'+normal_test.source.iloc[i]+'/'+ f\n",
    "    dsc = folder+'/'+'test2/'+ f\n",
    "    shutil.copy2(src , dsc)"
   ]
  },
  {
   "cell_type": "markdown",
   "metadata": {},
   "source": [
    "### show source file statistics"
   ]
  },
  {
   "cell_type": "code",
   "execution_count": null,
   "metadata": {},
   "outputs": [],
   "source": [
    "print('train', normal_train.source.value_counts())\n",
    "print('val  ', normal_val.source.value_counts())\n",
    "print('test ', normal_test.source.value_counts())\n",
    "print(\"------------------------------\")\n",
    "print('train', pneumonia_train.source.value_counts())\n",
    "print('val  ', pneumonia_val.source.value_counts())\n",
    "print('test ', pneumonia_test.source.value_counts())\n",
    "print(\"------------------------------\")\n",
    "print('train', COVID19_train.source.value_counts())\n",
    "print('val  ', COVID19_val.source.value_counts())\n",
    "print('test ', COVID19_test.source.value_counts())\n",
    "#COVID19_val.source.values_count()"
   ]
  },
  {
   "cell_type": "markdown",
   "metadata": {},
   "source": [
    "### combine datasets for produce txt files"
   ]
  },
  {
   "cell_type": "code",
   "execution_count": null,
   "metadata": {},
   "outputs": [],
   "source": [
    "frames_train = [normal_train, pneumonia_train, COVID19_train]\n",
    "frames_val = [normal_val, pneumonia_val, COVID19_val]\n",
    "frames_test = [normal_test, pneumonia_test, COVID19_test]\n",
    "\n",
    "df_train = pd.concat(frames_train)\n",
    "df_val = pd.concat(frames_val)\n",
    "df_test = pd.concat(frames_test)\n"
   ]
  },
  {
   "cell_type": "code",
   "execution_count": null,
   "metadata": {},
   "outputs": [],
   "source": [
    "df_train.to_csv(folder + '/' + 'train_split_v4.txt', index=False, header = False)\n",
    "df_val.to_csv(folder + '/' + 'train_split_v4.txt', index=False, header = False)\n",
    "df_test.to_csv(folder + '/' + 'train_split_v4.txt', index=False, header = False)\n"
   ]
  },
  {
   "cell_type": "code",
   "execution_count": 19,
   "metadata": {},
   "outputs": [
    {
     "data": {
      "text/plain": [
       "'C:\\\\Users\\\\reza_062\\\\Documents\\\\GitHub'"
      ]
     },
     "execution_count": 19,
     "metadata": {},
     "output_type": "execute_result"
    }
   ],
   "source": [
    "os.getcwd()"
   ]
  },
  {
   "cell_type": "code",
   "execution_count": null,
   "metadata": {},
   "outputs": [],
   "source": []
  }
 ],
 "metadata": {
  "kernelspec": {
   "display_name": "Python 3",
   "language": "python",
   "name": "python3"
  },
  "language_info": {
   "codemirror_mode": {
    "name": "ipython",
    "version": 3
   },
   "file_extension": ".py",
   "mimetype": "text/x-python",
   "name": "python",
   "nbconvert_exporter": "python",
   "pygments_lexer": "ipython3",
   "version": "3.7.3"
  }
 },
 "nbformat": 4,
 "nbformat_minor": 2
}
